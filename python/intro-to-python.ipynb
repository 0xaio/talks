{
 "metadata": {
  "celltoolbar": "Slideshow",
  "name": "",
  "signature": "sha256:51bfdfac15ee96bc94b4217f841c6cc3a2cd5e8637c50be111a541424927438e"
 },
 "nbformat": 3,
 "nbformat_minor": 0,
 "worksheets": [
  {
   "cells": [
    {
     "cell_type": "heading",
     "level": 1,
     "metadata": {
      "slideshow": {
       "slide_type": "slide"
      }
     },
     "source": [
      "Intro to Python"
     ]
    },
    {
     "cell_type": "markdown",
     "metadata": {
      "slideshow": {
       "slide_type": "-"
      }
     },
     "source": [
      "#Presented by @0xCMP\n",
      "##FALL 2014 - Programming Languages"
     ]
    },
    {
     "cell_type": "markdown",
     "metadata": {
      "slideshow": {
       "slide_type": "slide"
      }
     },
     "source": [
      "#Overview of Python\n",
      "Scripting language created by Guido van Rossum\n",
      "\n",
      "Published in 1991 (23 years ago)\n",
      "\n",
      "- Applications in:\n",
      "    * **Web programming**\n",
      "        * *Flask, Web.py, Django*\n",
      "    * **Simulation and Scientific applications**\n",
      "        * *SymPy, NumPy, Matplotlib*\n",
      "    * **Systems programming**\n",
      "        * *systemd*\n",
      "    * **Desktop GUI programming**\n",
      "        * *Tk, QT, GTK*\n",
      "    * **Game programming**\n",
      "        * *pygame*\n",
      "    * **Sever scripting**\n",
      "    * **Plugin language**\n",
      "    * **Security tools**"
     ]
    },
    {
     "cell_type": "markdown",
     "metadata": {
      "slideshow": {
       "slide_type": "subslide"
      }
     },
     "source": [
      "#Who uses Python? For what?\n",
      "Most places these days we know about use it for web programming.\n",
      "\n",
      "* [Dropbox]\n",
      "    * Desktop app is written in python\n",
      "    * Backend was python, now migrating to **Go**\n",
      "    * Employs Guido currently (creator of python)\n",
      "* [Google]\n",
      "    * Used python since beginining\n",
      "    * One of their 3 \"Offical Languages\" (C++, Java, Python)\n",
      "        * Languages allowed for production\n",
      "    * Employed Guido for a time (2005-2012)\n",
      "* [NASA]\n",
      "    * Some use it for data analysis in place of Matlab\n",
      "* Quora\n",
      "    * Website written in Python using Django Web Framework\n",
      "    * Also uses Cython for speed\n",
      "\n",
      "Many more at Python's website.\n",
      "\n",
      "[Dropbox]: https://en.wikipedia.org/wiki/Dropbox_(service)#Technology \"Dropbox's technology\"\n",
      "[Google]: http://stackoverflow.com/questions/2560310/heavy-usage-of-python-at-google \"Google's technology\"\n",
      "[NASA]: http://www.reddit.com/r/Python/comments/1r1yke/what_do_you_use_python_for/cdj2cwn"
     ]
    },
    {
     "cell_type": "markdown",
     "metadata": {
      "slideshow": {
       "slide_type": "subslide"
      }
     },
     "source": [
      "#What is it good at?\n",
      "**Python is great at getting an application created quickly and cleanly**\n",
      "\n",
      "* Single threaded or I/O intensive things\n",
      "* Python isn't as effcient as C or C++, but it is fast. Plus it integrates with C/C++ well.\n",
      "> Sid Myer's Civilization mods are written in Python because of this."
     ]
    },
    {
     "cell_type": "markdown",
     "metadata": {
      "slideshow": {
       "slide_type": "slide"
      }
     },
     "source": [
      "#How to setup Python\n",
      "Everyone needs to go to [http://python.org/download]()"
     ]
    },
    {
     "cell_type": "markdown",
     "metadata": {
      "slideshow": {
       "slide_type": "subslide"
      }
     },
     "source": [
      "#Windows\n",
      "* Download the latest 2.7 32 bit python. \n",
      "* Will install to `C:\\Python27`\n",
      "    * easier to go to with `cd \\py<tab>`\n",
      "    * keeps seperate from other python versions (like Python 3.4)"
     ]
    },
    {
     "cell_type": "markdown",
     "metadata": {
      "slideshow": {
       "slide_type": "subslide"
      }
     },
     "source": [
      "#Mac OS X\n",
      "* You already have Python 2.7 installed.\n",
      "* Check your version with `python -V` in the terminal\n",
      "* Download newest version from python.org \n",
      "    * or through homebrew ([brew.sh/](http://brew.sh)) with `brew install python`"
     ]
    },
    {
     "cell_type": "markdown",
     "metadata": {
      "slideshow": {
       "slide_type": "subslide"
      }
     },
     "source": [
      "#Ubuntu\n",
      "* You likely have it installed already.\n",
      "* Install via `apt-get`\n",
      "    1. Go to a terminal\n",
      "    1. `sudo apt-get update`\n",
      "    1. `sudo apt-get install python`"
     ]
    },
    {
     "cell_type": "markdown",
     "metadata": {
      "slideshow": {
       "slide_type": "subslide"
      }
     },
     "source": [
      "#Note about installing Python 3\n",
      "##Do not install python 3 for this class. \n",
      "I will talk about python 3 later and explain it's differences then. **It is actually incompatible with python 2 in important ways.**\n",
      "\n",
      "IF, you wish to also install it for mac and linux look for `python3` in `brew` or `apt-get install`"
     ]
    },
    {
     "cell_type": "markdown",
     "metadata": {
      "slideshow": {
       "slide_type": "slide"
      }
     },
     "source": [
      "#How to use it\n",
      "1. open your terminal\n",
      "    * OS X: spotlight search \"Terminal\" or install \"iTerm2\"\n",
      "    * Linux: refer to distro docs\n",
      "    * Windows: use powershell, search in start menu by searching \"powershell\" and pin it to somewhere\n",
      "2. type `python`"
     ]
    },
    {
     "cell_type": "markdown",
     "metadata": {
      "slideshow": {
       "slide_type": "slide"
      }
     },
     "source": [
      "#The interpreter and quick intro\n",
      "Lets try the following in the REPL (read, evaluate, print loop)"
     ]
    },
    {
     "cell_type": "code",
     "collapsed": false,
     "input": [
      "print \"hello world\""
     ],
     "language": "python",
     "metadata": {
      "slideshow": {
       "slide_type": "fragment"
      }
     },
     "outputs": [
      {
       "output_type": "stream",
       "stream": "stdout",
       "text": [
        "hello world\n"
       ]
      }
     ],
     "prompt_number": 17
    },
    {
     "cell_type": "code",
     "collapsed": false,
     "input": [
      "1+1"
     ],
     "language": "python",
     "metadata": {
      "slideshow": {
       "slide_type": "fragment"
      }
     },
     "outputs": [
      {
       "metadata": {},
       "output_type": "pyout",
       "prompt_number": 18,
       "text": [
        "2"
       ]
      }
     ],
     "prompt_number": 18
    },
    {
     "cell_type": "code",
     "collapsed": false,
     "input": [
      "1/2"
     ],
     "language": "python",
     "metadata": {
      "slideshow": {
       "slide_type": "subslide"
      }
     },
     "outputs": [
      {
       "metadata": {},
       "output_type": "pyout",
       "prompt_number": 19,
       "text": [
        "0"
       ]
      }
     ],
     "prompt_number": 19
    },
    {
     "cell_type": "markdown",
     "metadata": {
      "slideshow": {
       "slide_type": "fragment"
      }
     },
     "source": [
      "> **Notice for later**: Not *true* division"
     ]
    },
    {
     "cell_type": "code",
     "collapsed": false,
     "input": [
      "1//2"
     ],
     "language": "python",
     "metadata": {
      "slideshow": {
       "slide_type": "fragment"
      }
     },
     "outputs": [
      {
       "metadata": {},
       "output_type": "pyout",
       "prompt_number": 20,
       "text": [
        "0"
       ]
      }
     ],
     "prompt_number": 20
    },
    {
     "cell_type": "code",
     "collapsed": false,
     "input": [
      "print \"hello \" * 4"
     ],
     "language": "python",
     "metadata": {
      "slideshow": {
       "slide_type": "fragment"
      }
     },
     "outputs": [
      {
       "output_type": "stream",
       "stream": "stdout",
       "text": [
        "hello hello hello hello \n"
       ]
      }
     ],
     "prompt_number": 1
    },
    {
     "cell_type": "heading",
     "level": 1,
     "metadata": {
      "slideshow": {
       "slide_type": "slide"
      }
     },
     "source": [
      "Real Python...\n",
      "(for 2nd class)"
     ]
    },
    {
     "cell_type": "markdown",
     "metadata": {
      "slideshow": {
       "slide_type": "subslide"
      }
     },
     "source": [
      "##Lists, Dictionaries, and Slicing"
     ]
    },
    {
     "cell_type": "code",
     "collapsed": false,
     "input": [
      "item = [1,2,3,4,5,6]\n",
      "print item\n",
      "print type(item)"
     ],
     "language": "python",
     "metadata": {
      "slideshow": {
       "slide_type": "fragment"
      }
     },
     "outputs": [
      {
       "output_type": "stream",
       "stream": "stdout",
       "text": [
        "[1, 2, 3, 4, 5, 6]\n"
       ]
      }
     ],
     "prompt_number": 4
    },
    {
     "cell_type": "markdown",
     "metadata": {
      "slideshow": {
       "slide_type": "fragment"
      }
     },
     "source": [
      "##Slicing"
     ]
    },
    {
     "cell_type": "code",
     "collapsed": false,
     "input": [
      "print item[3:4]\n",
      "print item[:4]\n",
      "print item[3:]"
     ],
     "language": "python",
     "metadata": {
      "slideshow": {
       "slide_type": "fragment"
      }
     },
     "outputs": [
      {
       "output_type": "stream",
       "stream": "stdout",
       "text": [
        "[4]\n",
        "[1, 2, 3, 4]\n",
        "[4, 5, 6]\n"
       ]
      }
     ],
     "prompt_number": 5
    },
    {
     "cell_type": "code",
     "collapsed": false,
     "input": [
      "myDict = {\"key\":\"value\", \"name\":\"chris\"}"
     ],
     "language": "python",
     "metadata": {
      "slideshow": {
       "slide_type": "subslide"
      }
     },
     "outputs": [
      {
       "output_type": "stream",
       "stream": "stdout",
       "text": [
        "{'name': 'chris', 'key': 'value'}\n",
        "My name is chris\n"
       ]
      }
     ],
     "prompt_number": 2
    },
    {
     "cell_type": "code",
     "collapsed": false,
     "input": [
      "print myDict"
     ],
     "language": "python",
     "metadata": {
      "slideshow": {
       "slide_type": "fragment"
      }
     },
     "outputs": [
      {
       "output_type": "stream",
       "stream": "stdout",
       "text": [
        "{'name': 'chris', 'key': 'value'}\n"
       ]
      }
     ],
     "prompt_number": 6
    },
    {
     "cell_type": "code",
     "collapsed": false,
     "input": [
      "print \"My name is %s\" % myDict['name']"
     ],
     "language": "python",
     "metadata": {
      "slideshow": {
       "slide_type": "fragment"
      }
     },
     "outputs": [
      {
       "output_type": "stream",
       "stream": "stdout",
       "text": [
        "My name is chris\n"
       ]
      }
     ],
     "prompt_number": 7
    },
    {
     "cell_type": "markdown",
     "metadata": {
      "slideshow": {
       "slide_type": "subslide"
      }
     },
     "source": [
      "#`if` Statements"
     ]
    },
    {
     "cell_type": "code",
     "collapsed": false,
     "input": [
      "item = \"5\"\n",
      "if item == 5:\n",
      "    print \"It's 5\"\n",
      "elif item == \"5\":\n",
      "    print \"It's %s\" % item\n",
      "else:\n",
      "    print \"I don't know what it is.\""
     ],
     "language": "python",
     "metadata": {
      "slideshow": {
       "slide_type": "fragment"
      }
     },
     "outputs": [
      {
       "output_type": "stream",
       "stream": "stdout",
       "text": [
        "It's 5\n"
       ]
      }
     ],
     "prompt_number": 8
    },
    {
     "cell_type": "code",
     "collapsed": false,
     "input": [
      "item = \"5\"\n",
      "if item is not None:\n",
      "    print \"item isn't None\"\n",
      "else:\n",
      "    print \"item is None\"\n",
      "print \"---\\nSetting item to None\\n---\"\n",
      "\n",
      "item = None\n",
      "\n",
      "if item is None:\n",
      "    print \"item is None\""
     ],
     "language": "python",
     "metadata": {
      "slideshow": {
       "slide_type": "fragment"
      }
     },
     "outputs": [
      {
       "output_type": "stream",
       "stream": "stdout",
       "text": [
        "item isn't None\n",
        "---\n",
        "Setting item to None\n",
        "---\n",
        "item is None\n"
       ]
      }
     ],
     "prompt_number": 11
    },
    {
     "cell_type": "markdown",
     "metadata": {
      "slideshow": {
       "slide_type": "subslide"
      }
     },
     "source": [
      "##`for` loops"
     ]
    },
    {
     "cell_type": "code",
     "collapsed": false,
     "input": [
      "my_list = [1, 2, 3]\n",
      "my_strings = [\"things\", \"stuff\", \"abc\"]"
     ],
     "language": "python",
     "metadata": {
      "slideshow": {
       "slide_type": "fragment"
      }
     },
     "outputs": [],
     "prompt_number": 12
    },
    {
     "cell_type": "code",
     "collapsed": false,
     "input": [
      "for item in my_list:\n",
      "    print \"Item %d\" % item"
     ],
     "language": "python",
     "metadata": {
      "slideshow": {
       "slide_type": "fragment"
      }
     },
     "outputs": [
      {
       "output_type": "stream",
       "stream": "stdout",
       "text": [
        "Item 1\n",
        "Item 2\n",
        "Item 3\n"
       ]
      }
     ],
     "prompt_number": 13
    },
    {
     "cell_type": "code",
     "collapsed": false,
     "input": [
      "for (index, string) in enumerate(my_strings):\n",
      "    print \"Index of %d and value of %s\" % (index, string)"
     ],
     "language": "python",
     "metadata": {
      "slideshow": {
       "slide_type": "fragment"
      }
     },
     "outputs": [
      {
       "output_type": "stream",
       "stream": "stdout",
       "text": [
        "Index of 0 and value of things\n",
        "Index of 1 and value of stuff\n",
        "Index of 2 and value of abc\n"
       ]
      }
     ],
     "prompt_number": 15
    },
    {
     "cell_type": "markdown",
     "metadata": {
      "slideshow": {
       "slide_type": "subslide"
      }
     },
     "source": [
      "##Types and getting more help"
     ]
    },
    {
     "cell_type": "code",
     "collapsed": false,
     "input": [
      "print \"Type of my_list is %s and the first element is %s\" % (type(my_list), type(my_list[0]))"
     ],
     "language": "python",
     "metadata": {
      "slideshow": {
       "slide_type": "fragment"
      }
     },
     "outputs": [
      {
       "output_type": "stream",
       "stream": "stdout",
       "text": [
        "Type of my_list is <type 'list'> and the first element is <type 'int'>\n"
       ]
      }
     ],
     "prompt_number": 20
    },
    {
     "cell_type": "code",
     "collapsed": false,
     "input": [
      "print dir(my_list)"
     ],
     "language": "python",
     "metadata": {
      "slideshow": {
       "slide_type": "fragment"
      }
     },
     "outputs": [
      {
       "output_type": "stream",
       "stream": "stdout",
       "text": [
        "['__add__', '__class__', '__contains__', '__delattr__', '__delitem__', '__delslice__', '__doc__', '__eq__', '__format__', '__ge__', '__getattribute__', '__getitem__', '__getslice__', '__gt__', '__hash__', '__iadd__', '__imul__', '__init__', '__iter__', '__le__', '__len__', '__lt__', '__mul__', '__ne__', '__new__', '__reduce__', '__reduce_ex__', '__repr__', '__reversed__', '__rmul__', '__setattr__', '__setitem__', '__setslice__', '__sizeof__', '__str__', '__subclasshook__', 'append', 'count', 'extend', 'index', 'insert', 'pop', 'remove', 'reverse', 'sort']\n"
       ]
      }
     ],
     "prompt_number": 32
    },
    {
     "cell_type": "markdown",
     "metadata": {
      "slideshow": {
       "slide_type": "subslide"
      }
     },
     "source": [
      "##`class`es"
     ]
    },
    {
     "cell_type": "code",
     "collapsed": false,
     "input": [
      "class A_old():\n",
      "    pass\n",
      "\n",
      "class A_new(object):\n",
      "    pass\n",
      "\n",
      "print \"Old type %s and New type %s\" % (type(A_old), type(A_new))"
     ],
     "language": "python",
     "metadata": {
      "slideshow": {
       "slide_type": "fragment"
      }
     },
     "outputs": [
      {
       "output_type": "stream",
       "stream": "stdout",
       "text": [
        "Old type <type 'classobj'> and New type <type 'type'>\n"
       ]
      }
     ],
     "prompt_number": 26
    },
    {
     "cell_type": "code",
     "collapsed": false,
     "input": [
      "my_old_a = A_old()\n",
      "my_new_a = A_new()\n",
      "print \"Old object %s and New object %s\" % (type(my_old_a), type(my_new_a))"
     ],
     "language": "python",
     "metadata": {
      "slideshow": {
       "slide_type": "fragment"
      }
     },
     "outputs": [
      {
       "output_type": "stream",
       "stream": "stdout",
       "text": [
        "Old object <type 'instance'> and New object <class '__main__.A_new'>\n"
       ]
      }
     ],
     "prompt_number": 40
    },
    {
     "cell_type": "markdown",
     "metadata": {
      "slideshow": {
       "slide_type": "subslide"
      }
     },
     "source": [
      "##Equality and Variables\n",
      "In Python variables are more like \"tags\" than \"boxes\"\n",
      "\n",
      "<table>\n",
      "<tr>\n",
      "<td>\n",
      "Normal\n",
      "![](http://python.net/~goodger/projects/pycon/2007/idiomatic/a2box.png)\n",
      "![](http://python.net/~goodger/projects/pycon/2007/idiomatic/b2box.png)\n",
      "</td>\n",
      "<td>\n",
      "Python\n",
      "![](http://python.net/~goodger/projects/pycon/2007/idiomatic/a2tag.png)\n",
      "![](http://python.net/~goodger/projects/pycon/2007/idiomatic/ab2tag.png)\n",
      "</td>\n",
      "</tr>\n",
      "</table>"
     ]
    },
    {
     "cell_type": "code",
     "collapsed": false,
     "input": [
      "item = [1, 2, 3]"
     ],
     "language": "python",
     "metadata": {
      "slideshow": {
       "slide_type": "subslide"
      }
     },
     "outputs": [],
     "prompt_number": 34
    },
    {
     "cell_type": "code",
     "collapsed": false,
     "input": [
      "item is item"
     ],
     "language": "python",
     "metadata": {
      "slideshow": {
       "slide_type": "fragment"
      }
     },
     "outputs": [
      {
       "metadata": {},
       "output_type": "pyout",
       "prompt_number": 35,
       "text": [
        "True"
       ]
      }
     ],
     "prompt_number": 35
    },
    {
     "cell_type": "code",
     "collapsed": false,
     "input": [
      "item is item[:]"
     ],
     "language": "python",
     "metadata": {
      "slideshow": {
       "slide_type": "fragment"
      }
     },
     "outputs": [
      {
       "metadata": {},
       "output_type": "pyout",
       "prompt_number": 38,
       "text": [
        "False"
       ]
      }
     ],
     "prompt_number": 38
    },
    {
     "cell_type": "code",
     "collapsed": false,
     "input": [
      "item == item[:]"
     ],
     "language": "python",
     "metadata": {
      "slideshow": {
       "slide_type": "fragment"
      }
     },
     "outputs": [
      {
       "metadata": {},
       "output_type": "pyout",
       "prompt_number": 39,
       "text": [
        "True"
       ]
      }
     ],
     "prompt_number": 39
    },
    {
     "cell_type": "heading",
     "level": 2,
     "metadata": {
      "slideshow": {
       "slide_type": "slide"
      }
     },
     "source": [
      "Your First program"
     ]
    }
   ],
   "metadata": {}
  }
 ]
}