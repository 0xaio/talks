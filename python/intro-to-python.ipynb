{
 "metadata": {
  "celltoolbar": "Slideshow",
  "name": "",
  "signature": "sha256:c710bd9774967e1a2b64134e67fcaa771dd224b4901bb75dddd28f7e8c7c6490"
 },
 "nbformat": 3,
 "nbformat_minor": 0,
 "worksheets": [
  {
   "cells": [
    {
     "cell_type": "markdown",
     "metadata": {
      "slideshow": {
       "slide_type": "slide"
      }
     },
     "source": [
      "#Intro to Python\n",
      "By Chris Portela\n",
      "\n",
      "10/12/14"
     ]
    },
    {
     "cell_type": "markdown",
     "metadata": {
      "slideshow": {
       "slide_type": "slide"
      }
     },
     "source": [
      "#Python 2 - overview\n",
      "- Scripting language created by Guido van Rossum\n",
      "- Published in 1991 (23 years ago)"
     ]
    },
    {
     "cell_type": "markdown",
     "metadata": {
      "slideshow": {
       "slide_type": "fragment"
      }
     },
     "source": [
      "- Applications in:\n",
      "    * Web programming\n",
      "    * Simulation and Scientific applications\n",
      "    * Sever scripting\n",
      "    * Systems programming (?)\n",
      "    * Desktop GUI programming\n",
      "    * Game programming\n",
      "    * Plugin language\n",
      "    * Security tools"
     ]
    },
    {
     "cell_type": "markdown",
     "metadata": {
      "slideshow": {
       "slide_type": "subslide"
      }
     },
     "source": [
      "#Python 2 - overview\n",
      "- Used by:\n",
      "    * Dropbox\n",
      "    * Google\n",
      "    * Nasa\n",
      "    * Quora"
     ]
    },
    {
     "cell_type": "markdown",
     "metadata": {
      "slideshow": {
       "slide_type": "subslide"
      }
     },
     "source": [
      "#what is it good at?\n",
      "* Python is great at getting an application created quickly and cleanly\n",
      "* Python isn't as effcient as C or C++, but it is fast. Plus it integrates with C/C++ well.\n",
      "> Sid Myer's Civilization mods are written in Python because of this.\n",
      "\n",
      "* "
     ]
    },
    {
     "cell_type": "markdown",
     "metadata": {
      "slideshow": {
       "slide_type": "slide"
      }
     },
     "source": [
      "#How to setup Python\n",
      "Everyone needs to go to [http://python.org/download]()"
     ]
    },
    {
     "cell_type": "markdown",
     "metadata": {
      "slideshow": {
       "slide_type": "subslide"
      }
     },
     "source": [
      "#Windows\n",
      "* Download the latest 2.7 32 bit python. \n",
      "* Will install to `C:\\Python27`\n",
      "    * easier to go to with `cd \\py<tab>`\n",
      "    * keeps seperate from other python versions (like Python 3.4)"
     ]
    },
    {
     "cell_type": "markdown",
     "metadata": {
      "slideshow": {
       "slide_type": "subslide"
      }
     },
     "source": [
      "#Mac OS X\n",
      "* You already have Python 2.7 installed.\n",
      "* Check your version with `python -V` in the terminal\n",
      "* Download newest version from python.org \n",
      "    * or through homebrew ([brew.sh/](http://brew.sh)) with `brew install python`"
     ]
    },
    {
     "cell_type": "markdown",
     "metadata": {
      "slideshow": {
       "slide_type": "subslide"
      }
     },
     "source": [
      "#Ubuntu\n",
      "* You likely have it installed already.\n",
      "* Install via `apt-get`\n",
      "    1. Go to a terminal\n",
      "    1. `sudo apt-get update`\n",
      "    1. `sudo apt-get install python`"
     ]
    },
    {
     "cell_type": "markdown",
     "metadata": {
      "slideshow": {
       "slide_type": "subslide"
      }
     },
     "source": [
      "#Note about installing Python 3\n",
      "##Do not install python 3 for this class. \n",
      "I will talk about python 3 later and explain it's differences then. **It is actually incompatible with python 2 in important ways.**\n",
      "\n",
      "IF, you wish to also install it for mac and linux look for `python3` in `brew` or `apt-get install`"
     ]
    },
    {
     "cell_type": "markdown",
     "metadata": {
      "slideshow": {
       "slide_type": "slide"
      }
     },
     "source": [
      "#How to use it\n",
      "1. open your terminal\n",
      "    * OS X: spotlight search \"Terminal\" or install \"iTerm2\"\n",
      "    * Linux: refer to distro docs\n",
      "    * Windows: use powershell, search in start menu by searching \"powershell\" and pin it to somewhere\n",
      "2. type `python`"
     ]
    },
    {
     "cell_type": "markdown",
     "metadata": {
      "slideshow": {
       "slide_type": "slide"
      }
     },
     "source": [
      "#The interpreter\n",
      "Lets try the following in the REPL (read, evaluate, print loop)"
     ]
    },
    {
     "cell_type": "code",
     "collapsed": false,
     "input": [
      "print \"hello world\""
     ],
     "language": "python",
     "metadata": {
      "slideshow": {
       "slide_type": "fragment"
      }
     },
     "outputs": [
      {
       "output_type": "stream",
       "stream": "stdout",
       "text": [
        "hello world\n"
       ]
      }
     ],
     "prompt_number": 17
    },
    {
     "cell_type": "code",
     "collapsed": false,
     "input": [
      "1+1"
     ],
     "language": "python",
     "metadata": {
      "slideshow": {
       "slide_type": "fragment"
      }
     },
     "outputs": [
      {
       "metadata": {},
       "output_type": "pyout",
       "prompt_number": 18,
       "text": [
        "2"
       ]
      }
     ],
     "prompt_number": 18
    },
    {
     "cell_type": "code",
     "collapsed": false,
     "input": [
      "1/2"
     ],
     "language": "python",
     "metadata": {
      "slideshow": {
       "slide_type": "subslide"
      }
     },
     "outputs": [
      {
       "metadata": {},
       "output_type": "pyout",
       "prompt_number": 19,
       "text": [
        "0"
       ]
      }
     ],
     "prompt_number": 19
    },
    {
     "cell_type": "markdown",
     "metadata": {
      "slideshow": {
       "slide_type": "fragment"
      }
     },
     "source": [
      "> **Notice for later**: division here is integer divison, not \"true\" division"
     ]
    },
    {
     "cell_type": "code",
     "collapsed": false,
     "input": [
      "1//2"
     ],
     "language": "python",
     "metadata": {
      "slideshow": {
       "slide_type": "fragment"
      }
     },
     "outputs": [
      {
       "metadata": {},
       "output_type": "pyout",
       "prompt_number": 20,
       "text": [
        "0"
       ]
      }
     ],
     "prompt_number": 20
    },
    {
     "cell_type": "code",
     "collapsed": false,
     "input": [
      "print \"hello\" * 4"
     ],
     "language": "python",
     "metadata": {
      "slideshow": {
       "slide_type": "fragment"
      }
     },
     "outputs": [
      {
       "output_type": "stream",
       "stream": "stdout",
       "text": [
        "hellohellohellohello\n"
       ]
      }
     ],
     "prompt_number": 21
    },
    {
     "cell_type": "code",
     "collapsed": false,
     "input": [
      "item = [1,2,3,4,5,6]\n",
      "print item\n",
      "print item[3:4]\n",
      "print item[:4]\n",
      "print item[3:]"
     ],
     "language": "python",
     "metadata": {
      "slideshow": {
       "slide_type": "subslide"
      }
     },
     "outputs": [
      {
       "output_type": "stream",
       "stream": "stdout",
       "text": [
        "[1, 2, 3, 4, 5, 6]\n",
        "[4]\n",
        "[1, 2, 3, 4]\n",
        "[4, 5, 6]\n"
       ]
      }
     ],
     "prompt_number": 22
    },
    {
     "cell_type": "code",
     "collapsed": false,
     "input": [
      "myDict = {\"key\":\"value\", \"name\":\"chris\"}\n",
      "print myDict\n",
      "print \"My name is %s\" % myDict['name']"
     ],
     "language": "python",
     "metadata": {
      "slideshow": {
       "slide_type": "subslide"
      }
     },
     "outputs": [
      {
       "output_type": "stream",
       "stream": "stdout",
       "text": [
        "{'name': 'chris', 'key': 'value'}\n",
        "My name is chris\n"
       ]
      }
     ],
     "prompt_number": 23
    },
    {
     "cell_type": "markdown",
     "metadata": {
      "slideshow": {
       "slide_type": "slide"
      }
     },
     "source": [
      "#Your First program"
     ]
    },
    {
     "cell_type": "code",
     "collapsed": false,
     "input": [
      "print 'hello world'"
     ],
     "language": "python",
     "metadata": {
      "slideshow": {
       "slide_type": "fragment"
      }
     },
     "outputs": [
      {
       "output_type": "stream",
       "stream": "stdout",
       "text": [
        "hello world\n"
       ]
      }
     ],
     "prompt_number": 24
    },
    {
     "cell_type": "code",
     "collapsed": false,
     "input": [],
     "language": "python",
     "metadata": {
      "slideshow": {
       "slide_type": "fragment"
      }
     },
     "outputs": [],
     "prompt_number": 24
    },
    {
     "cell_type": "markdown",
     "metadata": {
      "slideshow": {
       "slide_type": "slide"
      }
     },
     "source": [
      "#for next time"
     ]
    }
   ],
   "metadata": {}
  }
 ]
}